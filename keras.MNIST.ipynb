{
 "cells": [
  {
   "cell_type": "code",
   "execution_count": 18,
   "metadata": {
    "collapsed": false
   },
   "outputs": [],
   "source": [
    "import numpy as np\n",
    "import pandas as pd\n",
    "import matplotlib.pyplot as plt\n",
    "%matplotlib inline\n",
    "\n",
    "from keras.datasets import mnist\n",
    "from keras.models import Sequential\n",
    "from keras.layers import Dense, Dropout\n",
    "from keras.utils import np_utils"
   ]
  },
  {
   "cell_type": "code",
   "execution_count": 19,
   "metadata": {
    "collapsed": false
   },
   "outputs": [],
   "source": [
    "seed = 7\n",
    "np.random.seed(seed)"
   ]
  },
  {
   "cell_type": "code",
   "execution_count": 20,
   "metadata": {
    "collapsed": false
   },
   "outputs": [
    {
     "name": "stdout",
     "output_type": "stream",
     "text": [
      "(60000L, 28L, 28L) (10000L, 28L, 28L)\n",
      "(60000L,) (10000L,)\n"
     ]
    }
   ],
   "source": [
    "# Load data\n",
    "(X_train, y_train), (X_test, y_test) = mnist.load_data()\n",
    "print X_train.shape, X_test.shape\n",
    "print y_train.shape, y_test.shape"
   ]
  },
  {
   "cell_type": "code",
   "execution_count": 21,
   "metadata": {
    "collapsed": false
   },
   "outputs": [
    {
     "name": "stdout",
     "output_type": "stream",
     "text": [
      "784\n",
      "(60000L, 784L) (60000L,)\n"
     ]
    }
   ],
   "source": [
    "# Flatten 28*28 images to a 784 vector for each image\n",
    "pixels = X_train.shape[1] * X_train.shape[2]\n",
    "X_train = X_train.reshape(X_train.shape[0], pixels).astype('float32')\n",
    "X_test = X_test.reshape(X_test.shape[0], pixels).astype('float32')\n",
    "print pixels\n",
    "\n",
    "# Normalize inputs from 0-255 to 0-1\n",
    "X_train = X_train / 255\n",
    "X_test = X_test / 255\n",
    "\n",
    "print X_train.shape, y_train.shape"
   ]
  },
  {
   "cell_type": "code",
   "execution_count": 22,
   "metadata": {
    "collapsed": false
   },
   "outputs": [
    {
     "name": "stdout",
     "output_type": "stream",
     "text": [
      "10\n"
     ]
    }
   ],
   "source": [
    "# One hot encode outputs\n",
    "y_train = np_utils.to_categorical(y_train)\n",
    "y_test = np_utils.to_categorical(y_test)\n",
    "num_op = y_test.shape[1]\n",
    "print num_op"
   ]
  },
  {
   "cell_type": "markdown",
   "metadata": {},
   "source": [
    "<h1> # Feed Forward Neural Network </h1>"
   ]
  },
  {
   "cell_type": "code",
   "execution_count": 23,
   "metadata": {
    "collapsed": false
   },
   "outputs": [],
   "source": [
    "def base_model():\n",
    "    # create model\n",
    "    model = Sequential()\n",
    "    model.add(Dense(pixels, input_dim=pixels, init='normal', activation='relu'))\n",
    "    model.add(Dense(num_op, init='normal', activation='softmax'))\n",
    "    # Compile model\n",
    "    model.compile(loss='categorical_crossentropy', optimizer='adam', metrics=['accuracy'])\n",
    "    return model"
   ]
  },
  {
   "cell_type": "code",
   "execution_count": 24,
   "metadata": {
    "collapsed": false
   },
   "outputs": [],
   "source": [
    "# Build the model\n",
    "model = base_model()"
   ]
  },
  {
   "cell_type": "code",
   "execution_count": 25,
   "metadata": {
    "collapsed": false
   },
   "outputs": [
    {
     "name": "stdout",
     "output_type": "stream",
     "text": [
      "Train on 60000 samples, validate on 10000 samples\n",
      "Epoch 1/10\n",
      "60000/60000 [==============================] - 5s - loss: 0.2791 - acc: 0.9203 - val_loss: 0.1421 - val_acc: 0.9578\n",
      "Epoch 2/10\n",
      "60000/60000 [==============================] - 5s - loss: 0.1123 - acc: 0.9679 - val_loss: 0.0998 - val_acc: 0.9696\n",
      "Epoch 3/10\n",
      "60000/60000 [==============================] - 5s - loss: 0.0724 - acc: 0.9789 - val_loss: 0.0786 - val_acc: 0.9746\n",
      "Epoch 4/10\n",
      "60000/60000 [==============================] - 5s - loss: 0.0510 - acc: 0.9855 - val_loss: 0.0788 - val_acc: 0.9761\n",
      "Epoch 5/10\n",
      "60000/60000 [==============================] - 5s - loss: 0.0366 - acc: 0.9898 - val_loss: 0.0638 - val_acc: 0.9795\n",
      "Epoch 6/10\n",
      "60000/60000 [==============================] - 6s - loss: 0.0265 - acc: 0.9929 - val_loss: 0.0643 - val_acc: 0.9798\n",
      "Epoch 7/10\n",
      "60000/60000 [==============================] - 6s - loss: 0.0185 - acc: 0.9958 - val_loss: 0.0609 - val_acc: 0.9807\n",
      "Epoch 8/10\n",
      "60000/60000 [==============================] - 6s - loss: 0.0147 - acc: 0.9969 - val_loss: 0.0620 - val_acc: 0.9812\n",
      "Epoch 9/10\n",
      "60000/60000 [==============================] - 5s - loss: 0.0106 - acc: 0.9981 - val_loss: 0.0599 - val_acc: 0.9816\n",
      "Epoch 10/10\n",
      "60000/60000 [==============================] - 6s - loss: 0.0073 - acc: 0.9987 - val_loss: 0.0594 - val_acc: 0.9819\n"
     ]
    },
    {
     "data": {
      "text/plain": [
       "<keras.callbacks.History at 0x2da79278>"
      ]
     },
     "execution_count": 25,
     "metadata": {},
     "output_type": "execute_result"
    }
   ],
   "source": [
    "# Fit the model\n",
    "model.fit(X_train, y_train, validation_data=(X_test, y_test), nb_epoch=10, batch_size=200)"
   ]
  },
  {
   "cell_type": "code",
   "execution_count": 26,
   "metadata": {
    "collapsed": false
   },
   "outputs": [
    {
     "name": "stdout",
     "output_type": "stream",
     "text": [
      "Error:  1.81\n"
     ]
    }
   ],
   "source": [
    "# Final evaluation of the model\n",
    "scores = model.evaluate(X_test, y_test, verbose=0)\n",
    "print \"Error: \", 100-scores[1]*100"
   ]
  },
  {
   "cell_type": "markdown",
   "metadata": {},
   "source": [
    "<h1># Convolutional Neural Network </h1>"
   ]
  },
  {
   "cell_type": "code",
   "execution_count": 27,
   "metadata": {
    "collapsed": true
   },
   "outputs": [],
   "source": [
    "from keras.layers import Flatten\n",
    "from keras.layers.convolutional import Convolution2D, MaxPooling2D\n",
    "from keras import backend as K\n",
    "K.set_image_dim_ordering('th')"
   ]
  },
  {
   "cell_type": "code",
   "execution_count": 28,
   "metadata": {
    "collapsed": true
   },
   "outputs": [],
   "source": [
    "# fix random seed for reproducibility\n",
    "seed = 3\n",
    "np.random.seed(seed)"
   ]
  },
  {
   "cell_type": "code",
   "execution_count": 29,
   "metadata": {
    "collapsed": false
   },
   "outputs": [
    {
     "name": "stdout",
     "output_type": "stream",
     "text": [
      "(60000L, 1L, 28L, 28L) (60000L,)\n",
      "(10000L, 1L, 28L, 28L) (10000L,)\n"
     ]
    }
   ],
   "source": [
    "# load data\n",
    "(X_train, y_train), (X_test, y_test) = mnist.load_data()\n",
    "X_train = X_train.reshape(X_train.shape[0], 1, 28, 28).astype('float32')\n",
    "X_test = X_test.reshape(X_test.shape[0], 1, 28, 28).astype('float32')\n",
    "\n",
    "print X_train.shape, y_train.shape\n",
    "print X_test.shape, y_test.shape"
   ]
  },
  {
   "cell_type": "code",
   "execution_count": 30,
   "metadata": {
    "collapsed": false
   },
   "outputs": [
    {
     "name": "stdout",
     "output_type": "stream",
     "text": [
      "10\n"
     ]
    }
   ],
   "source": [
    "# normalize inputs\n",
    "X_train = X_train / 255\n",
    "X_test = X_test / 255\n",
    "\n",
    "# one hot encoding\n",
    "y_train = np_utils.to_categorical(y_train)\n",
    "y_test = np_utils.to_categorical(y_test)\n",
    "num_op = y_test.shape[1]\n",
    "\n",
    "print num_op"
   ]
  },
  {
   "cell_type": "code",
   "execution_count": 31,
   "metadata": {
    "collapsed": false
   },
   "outputs": [],
   "source": [
    "def cnn_model():\n",
    "    # create model\n",
    "    model = Sequential()\n",
    "    model.add(Convolution2D(32, 5, 5, border_mode='valid', input_shape=(1, 28, 28), activation='relu'))\n",
    "    model.add(MaxPooling2D(pool_size=(2, 2)))\n",
    "    model.add(Dropout(0.2))\n",
    "    model.add(Flatten())\n",
    "    model.add(Dense(128, activation='relu'))\n",
    "    model.add(Dense(num_op, activation='softmax'))\n",
    "    # Compile Model\n",
    "    model.compile(loss='categorical_crossentropy', optimizer='adam', metrics=['accuracy'])\n",
    "    return model"
   ]
  },
  {
   "cell_type": "code",
   "execution_count": 32,
   "metadata": {
    "collapsed": false
   },
   "outputs": [
    {
     "name": "stdout",
     "output_type": "stream",
     "text": [
      "Train on 60000 samples, validate on 10000 samples\n",
      "Epoch 1/10\n",
      "71s - loss: 0.2319 - acc: 0.9351 - val_loss: 0.0733 - val_acc: 0.9772\n",
      "Epoch 2/10\n",
      "73s - loss: 0.0731 - acc: 0.9784 - val_loss: 0.0485 - val_acc: 0.9844\n",
      "Epoch 3/10\n",
      "71s - loss: 0.0513 - acc: 0.9843 - val_loss: 0.0429 - val_acc: 0.9858\n",
      "Epoch 4/10\n",
      "74s - loss: 0.0396 - acc: 0.9880 - val_loss: 0.0438 - val_acc: 0.9860\n",
      "Epoch 5/10\n",
      "74s - loss: 0.0321 - acc: 0.9902 - val_loss: 0.0315 - val_acc: 0.9897\n",
      "Epoch 6/10\n",
      "73s - loss: 0.0261 - acc: 0.9918 - val_loss: 0.0300 - val_acc: 0.9900\n",
      "Epoch 7/10\n",
      "73s - loss: 0.0226 - acc: 0.9929 - val_loss: 0.0326 - val_acc: 0.9880\n",
      "Epoch 8/10\n",
      "74s - loss: 0.0187 - acc: 0.9938 - val_loss: 0.0302 - val_acc: 0.9900\n",
      "Epoch 9/10\n",
      "71s - loss: 0.0152 - acc: 0.9955 - val_loss: 0.0311 - val_acc: 0.9905\n",
      "Epoch 10/10\n",
      "71s - loss: 0.0133 - acc: 0.9956 - val_loss: 0.0368 - val_acc: 0.9880\n"
     ]
    },
    {
     "data": {
      "text/plain": [
       "<keras.callbacks.History at 0x2f82fd30>"
      ]
     },
     "execution_count": 32,
     "metadata": {},
     "output_type": "execute_result"
    }
   ],
   "source": [
    "# Build the model\n",
    "model = cnn_model()\n",
    "\n",
    "# Fit the model\n",
    "model.fit(X_train, y_train, validation_data=(X_test, y_test), nb_epoch=10, batch_size=200, verbose=2)\n",
    "\n"
   ]
  },
  {
   "cell_type": "code",
   "execution_count": 34,
   "metadata": {
    "collapsed": false
   },
   "outputs": [
    {
     "name": "stdout",
     "output_type": "stream",
     "text": [
      "Error:  1.2\n"
     ]
    }
   ],
   "source": [
    "# Final Evaluation of the model\n",
    "scores = model.evaluate(X_test, y_test, verbose=0)\n",
    "print \"Error: \", 100-scores[1]*100"
   ]
  },
  {
   "cell_type": "code",
   "execution_count": 35,
   "metadata": {
    "collapsed": true
   },
   "outputs": [],
   "source": [
    "def cnn_model():\n",
    "    # create model\n",
    "    model = Sequential()\n",
    "    model.add(Convolution2D(32, 3, 3, border_mode='valid', input_shape=(1, 28, 28), activation='relu'))\n",
    "#     model.add(MaxPooling2D(pool_size=(2, 2)))\n",
    "    model.add(Dropout(0.2))\n",
    "    model.add(Flatten())\n",
    "    model.add(Dense(128, activation='relu'))\n",
    "    model.add(Dense(num_op, activation='softmax'))\n",
    "    # Compile Model\n",
    "    model.compile(loss='categorical_crossentropy', optimizer='adam', metrics=['accuracy'])\n",
    "    return model"
   ]
  },
  {
   "cell_type": "code",
   "execution_count": 36,
   "metadata": {
    "collapsed": false
   },
   "outputs": [
    {
     "name": "stdout",
     "output_type": "stream",
     "text": [
      "Train on 60000 samples, validate on 10000 samples\n",
      "Epoch 1/10\n",
      "106s - loss: 0.2174 - acc: 0.9370 - val_loss: 0.0745 - val_acc: 0.9789\n",
      "Epoch 2/10\n",
      "105s - loss: 0.0651 - acc: 0.9814 - val_loss: 0.0593 - val_acc: 0.9796\n",
      "Epoch 3/10\n",
      "110s - loss: 0.0401 - acc: 0.9882 - val_loss: 0.0565 - val_acc: 0.9820\n",
      "Epoch 4/10\n",
      "110s - loss: 0.0280 - acc: 0.9910 - val_loss: 0.0478 - val_acc: 0.9850\n",
      "Epoch 5/10\n",
      "111s - loss: 0.0183 - acc: 0.9944 - val_loss: 0.0465 - val_acc: 0.9846\n",
      "Epoch 6/10\n",
      "109s - loss: 0.0132 - acc: 0.9963 - val_loss: 0.0538 - val_acc: 0.9842\n",
      "Epoch 7/10\n",
      "110s - loss: 0.0097 - acc: 0.9975 - val_loss: 0.0499 - val_acc: 0.9853\n",
      "Epoch 8/10\n",
      "111s - loss: 0.0069 - acc: 0.9982 - val_loss: 0.0556 - val_acc: 0.9839\n",
      "Epoch 9/10\n",
      "111s - loss: 0.0058 - acc: 0.9984 - val_loss: 0.0593 - val_acc: 0.9835\n",
      "Epoch 10/10\n",
      "111s - loss: 0.0075 - acc: 0.9976 - val_loss: 0.0533 - val_acc: 0.9856\n"
     ]
    },
    {
     "data": {
      "text/plain": [
       "<keras.callbacks.History at 0x2fcb9be0>"
      ]
     },
     "execution_count": 36,
     "metadata": {},
     "output_type": "execute_result"
    }
   ],
   "source": [
    "model = cnn_model()\n",
    "model.fit(X_train, y_train, validation_data=(X_test, y_test), nb_epoch=10, batch_size=200, verbose=2)\n"
   ]
  },
  {
   "cell_type": "code",
   "execution_count": null,
   "metadata": {
    "collapsed": false
   },
   "outputs": [],
   "source": [
    "# Final Evaluation of the model\n",
    "scores = model.evaluate(X_test, y_test, verbose=0)\n",
    "print \"Error: \", 100-scores[1]*100"
   ]
  },
  {
   "cell_type": "code",
   "execution_count": null,
   "metadata": {
    "collapsed": true
   },
   "outputs": [],
   "source": []
  }
 ],
 "metadata": {
  "kernelspec": {
   "display_name": "Python 2",
   "language": "python",
   "name": "python2"
  },
  "language_info": {
   "codemirror_mode": {
    "name": "ipython",
    "version": 2
   },
   "file_extension": ".py",
   "mimetype": "text/x-python",
   "name": "python",
   "nbconvert_exporter": "python",
   "pygments_lexer": "ipython2",
   "version": "2.7.12"
  }
 },
 "nbformat": 4,
 "nbformat_minor": 2
}
