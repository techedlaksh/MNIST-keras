{
 "cells": [
  {
   "cell_type": "code",
   "execution_count": 6,
   "metadata": {
    "collapsed": false
   },
   "outputs": [],
   "source": [
    "import numpy as np\n",
    "import pandas as pd\n",
    "import matplotlib.pyplot as plt\n",
    "%matplotlib inline\n",
    "\n",
    "from keras.datasets import mnist\n",
    "from keras.models import Sequential\n",
    "from keras.layers import Dense, Dropout\n",
    "from keras.utils import np_utils"
   ]
  },
  {
   "cell_type": "code",
   "execution_count": 58,
   "metadata": {
    "collapsed": false
   },
   "outputs": [],
   "source": [
    "seed = 7\n",
    "np.random.seed(seed)"
   ]
  },
  {
   "cell_type": "code",
   "execution_count": 59,
   "metadata": {
    "collapsed": false
   },
   "outputs": [
    {
     "name": "stdout",
     "output_type": "stream",
     "text": [
      "(60000, 28, 28) (10000, 28, 28)\n",
      "(60000,) (10000,)\n"
     ]
    }
   ],
   "source": [
    "# Load data\n",
    "(X_train, y_train), (X_test, y_test) = mnist.load_data()\n",
    "print X_train.shape, X_test.shape\n",
    "print y_train.shape, y_test.shape"
   ]
  },
  {
   "cell_type": "code",
   "execution_count": 60,
   "metadata": {
    "collapsed": false
   },
   "outputs": [
    {
     "name": "stdout",
     "output_type": "stream",
     "text": [
      "784\n",
      "(60000, 784) (60000,)\n"
     ]
    }
   ],
   "source": [
    "# Flatten 28*28 images to a 784 vector for each image\n",
    "pixels = X_train.shape[1] * X_train.shape[2]\n",
    "X_train = X_train.reshape(X_train.shape[0], pixels).astype('float32')\n",
    "X_test = X_test.reshape(X_test.shape[0], pixels).astype('float32')\n",
    "print pixels\n",
    "\n",
    "# Normalize inputs from 0-255 to 0-1\n",
    "X_train = X_train / 255\n",
    "X_test = X_test / 255\n",
    "\n",
    "print X_train.shape, y_train.shape"
   ]
  },
  {
   "cell_type": "code",
   "execution_count": 61,
   "metadata": {
    "collapsed": false
   },
   "outputs": [
    {
     "name": "stdout",
     "output_type": "stream",
     "text": [
      "10\n"
     ]
    }
   ],
   "source": [
    "# One hot encode outputs\n",
    "y_train = np_utils.to_categorical(y_train)\n",
    "y_test = np_utils.to_categorical(y_test)\n",
    "num_op = y_test.shape[1]\n",
    "print num_op"
   ]
  },
  {
   "cell_type": "markdown",
   "metadata": {},
   "source": [
    "<h1> # Feed Forward Neural Network </h1>"
   ]
  },
  {
   "cell_type": "code",
   "execution_count": 66,
   "metadata": {
    "collapsed": false
   },
   "outputs": [],
   "source": [
    "def base_model():\n",
    "    # create model\n",
    "    model = Sequential()\n",
    "    model.add(Dense(pixels, input_dim=pixels, init='normal', activation='relu'))\n",
    "    model.add(Dense(pixels/2, activation='relu'))\n",
    "    model.add(Dense(pixels/4, activation='relu'))\n",
    "    model.add(Dense(num_op, init='normal', activation='softmax'))\n",
    "    # Compile model\n",
    "    model.compile(loss='categorical_crossentropy', optimizer='sgd', metrics=['accuracy'])\n",
    "    return model"
   ]
  },
  {
   "cell_type": "code",
   "execution_count": 67,
   "metadata": {
    "collapsed": false
   },
   "outputs": [],
   "source": [
    "# Build the model\n",
    "mlp_m = base_model()"
   ]
  },
  {
   "cell_type": "code",
   "execution_count": 68,
   "metadata": {
    "collapsed": false
   },
   "outputs": [
    {
     "name": "stdout",
     "output_type": "stream",
     "text": [
      "____________________________________________________________________________________________________\n",
      "Layer (type)                     Output Shape          Param #     Connected to                     \n",
      "====================================================================================================\n",
      "dense_25 (Dense)                 (None, 784)           615440      dense_input_6[0][0]              \n",
      "____________________________________________________________________________________________________\n",
      "dense_26 (Dense)                 (None, 392)           307720      dense_25[0][0]                   \n",
      "____________________________________________________________________________________________________\n",
      "dense_27 (Dense)                 (None, 196)           77028       dense_26[0][0]                   \n",
      "____________________________________________________________________________________________________\n",
      "dense_28 (Dense)                 (None, 10)            1970        dense_27[0][0]                   \n",
      "====================================================================================================\n",
      "Total params: 1002158\n",
      "____________________________________________________________________________________________________\n"
     ]
    }
   ],
   "source": [
    "mlp_m.summary()"
   ]
  },
  {
   "cell_type": "code",
   "execution_count": 69,
   "metadata": {
    "collapsed": false,
    "scrolled": true
   },
   "outputs": [
    {
     "name": "stdout",
     "output_type": "stream",
     "text": [
      "Train on 60000 samples, validate on 10000 samples\n",
      "Epoch 1/30\n",
      "0s - loss: 1.9251 - acc: 0.4899 - val_loss: 1.3523 - val_acc: 0.7246\n",
      "Epoch 2/30\n",
      "0s - loss: 0.9097 - acc: 0.8049 - val_loss: 0.6125 - val_acc: 0.8512\n",
      "Epoch 3/30\n",
      "0s - loss: 0.5304 - acc: 0.8635 - val_loss: 0.4394 - val_acc: 0.8821\n",
      "Epoch 4/30\n",
      "0s - loss: 0.4195 - acc: 0.8855 - val_loss: 0.3709 - val_acc: 0.8958\n",
      "Epoch 5/30\n",
      "0s - loss: 0.3663 - acc: 0.8981 - val_loss: 0.3331 - val_acc: 0.9065\n",
      "Epoch 6/30\n",
      "1s - loss: 0.3335 - acc: 0.9063 - val_loss: 0.3064 - val_acc: 0.9134\n",
      "Epoch 7/30\n",
      "0s - loss: 0.3105 - acc: 0.9122 - val_loss: 0.2894 - val_acc: 0.9181\n",
      "Epoch 8/30\n",
      "1s - loss: 0.2922 - acc: 0.9172 - val_loss: 0.2753 - val_acc: 0.9231\n",
      "Epoch 9/30\n",
      "0s - loss: 0.2776 - acc: 0.9207 - val_loss: 0.2605 - val_acc: 0.9265\n",
      "Epoch 10/30\n",
      "1s - loss: 0.2647 - acc: 0.9245 - val_loss: 0.2497 - val_acc: 0.9305\n",
      "Epoch 11/30\n",
      "0s - loss: 0.2535 - acc: 0.9274 - val_loss: 0.2402 - val_acc: 0.9322\n",
      "Epoch 12/30\n",
      "0s - loss: 0.2435 - acc: 0.9305 - val_loss: 0.2325 - val_acc: 0.9332\n",
      "Epoch 13/30\n",
      "0s - loss: 0.2343 - acc: 0.9332 - val_loss: 0.2265 - val_acc: 0.9350\n",
      "Epoch 14/30\n",
      "0s - loss: 0.2258 - acc: 0.9355 - val_loss: 0.2189 - val_acc: 0.9371\n",
      "Epoch 15/30\n",
      "0s - loss: 0.2182 - acc: 0.9380 - val_loss: 0.2106 - val_acc: 0.9383\n",
      "Epoch 16/30\n",
      "0s - loss: 0.2107 - acc: 0.9398 - val_loss: 0.2056 - val_acc: 0.9412\n",
      "Epoch 17/30\n",
      "0s - loss: 0.2038 - acc: 0.9422 - val_loss: 0.2012 - val_acc: 0.9421\n",
      "Epoch 18/30\n",
      "0s - loss: 0.1978 - acc: 0.9435 - val_loss: 0.1942 - val_acc: 0.9442\n",
      "Epoch 19/30\n",
      "0s - loss: 0.1916 - acc: 0.9456 - val_loss: 0.1888 - val_acc: 0.9453\n",
      "Epoch 20/30\n",
      "0s - loss: 0.1860 - acc: 0.9471 - val_loss: 0.1856 - val_acc: 0.9451\n",
      "Epoch 21/30\n",
      "0s - loss: 0.1804 - acc: 0.9488 - val_loss: 0.1797 - val_acc: 0.9469\n",
      "Epoch 22/30\n",
      "0s - loss: 0.1750 - acc: 0.9504 - val_loss: 0.1766 - val_acc: 0.9477\n",
      "Epoch 23/30\n",
      "0s - loss: 0.1704 - acc: 0.9519 - val_loss: 0.1701 - val_acc: 0.9493\n",
      "Epoch 24/30\n",
      "0s - loss: 0.1657 - acc: 0.9534 - val_loss: 0.1672 - val_acc: 0.9505\n",
      "Epoch 25/30\n",
      "0s - loss: 0.1612 - acc: 0.9547 - val_loss: 0.1637 - val_acc: 0.9520\n",
      "Epoch 26/30\n",
      "0s - loss: 0.1570 - acc: 0.9560 - val_loss: 0.1602 - val_acc: 0.9520\n",
      "Epoch 27/30\n",
      "0s - loss: 0.1528 - acc: 0.9573 - val_loss: 0.1551 - val_acc: 0.9545\n",
      "Epoch 28/30\n",
      "0s - loss: 0.1490 - acc: 0.9585 - val_loss: 0.1542 - val_acc: 0.9530\n",
      "Epoch 29/30\n",
      "0s - loss: 0.1449 - acc: 0.9593 - val_loss: 0.1493 - val_acc: 0.9554\n",
      "Epoch 30/30\n",
      "0s - loss: 0.1414 - acc: 0.9604 - val_loss: 0.1463 - val_acc: 0.9557\n"
     ]
    }
   ],
   "source": [
    "# Fit the model\n",
    "mlp = mlp_m.fit(X_train, y_train, validation_data=(X_test, y_test), nb_epoch=30, batch_size=256, verbose=2)"
   ]
  },
  {
   "cell_type": "code",
   "execution_count": 70,
   "metadata": {
    "collapsed": false
   },
   "outputs": [
    {
     "data": {
      "image/png": "[encoded data removed]",
      "text/plain": [
       "<matplotlib.figure.Figure at 0x7f5d7ff90750>"
      ]
     },
     "metadata": {},
     "output_type": "display_data"
    },
    {
     "data": {
      "image/png": "[encoded data removed]",
      "text/plain": [
       "<matplotlib.figure.Figure at 0x7f5d80089c10>"
      ]
     },
     "metadata": {},
     "output_type": "display_data"
    }
   ],
   "source": [
    "plt.figure(0)\n",
    "plt.plot(mlp.history['acc'], 'r')\n",
    "plt.plot(mlp.history['val_acc'], 'g')\n",
    "plt.xticks(np.arange(0, 31, 5.0))\n",
    "plt.rcParams['figure.figsize'] = (8,6)\n",
    "plt.xlabel(\"Num of Epochs\")\n",
    "plt.ylabel(\"Accuracy\")\n",
    "plt.title(\"Training Accuracy vs Validation Accuracy\")\n",
    "plt.legend(['train', 'val'])\n",
    "\n",
    "plt.figure(1)\n",
    "plt.plot(mlp.history['loss'], 'r')\n",
    "plt.plot(mlp.history['val_loss'], 'g')\n",
    "plt.xticks(np.arange(0, 31, 5.0))\n",
    "plt.rcParams['figure.figsize'] = (8,6)\n",
    "plt.xlabel(\"Num of Epochs\")\n",
    "plt.ylabel(\"Loss\")\n",
    "plt.title(\"Training Loss vs Validation Loss\")\n",
    "plt.legend(['train', 'val'])\n",
    "\n",
    "plt.show()"
   ]
  },
  {
   "cell_type": "code",
   "execution_count": 71,
   "metadata": {
    "collapsed": true
   },
   "outputs": [],
   "source": [
    "from sklearn.metrics import classification_report, confusion_matrix"
   ]
  },
  {
   "cell_type": "code",
   "execution_count": 72,
   "metadata": {
    "collapsed": false
   },
   "outputs": [
    {
     "name": "stdout",
     "output_type": "stream",
     "text": [
      "0 980\n",
      "1 1135\n",
      "2 1032\n",
      "3 1010\n",
      "4 982\n",
      "5 892\n",
      "6 958\n",
      "7 1028\n",
      "8 974\n",
      "9 1009\n",
      "[[ 963    0    1    2    0    4    6    1    2    1]\n",
      " [   0 1111    2    2    1    1    4    2   12    0]\n",
      " [   7    3  986    5    7    0    2    8   12    2]\n",
      " [   0    2   16  947    0   14    1   11   16    3]\n",
      " [   1    1    7    0  936    0    7    2    4   24]\n",
      " [   8    1    1    6    2  849   10    0   11    4]\n",
      " [   9    3    3    0    7   10  922    0    4    0]\n",
      " [   1    8   18    5    4    2    0  969    2   19]\n",
      " [   3    2    2    9    8   10    7    5  924    4]\n",
      " [   7    5    2    4   19    4    1    7   10  950]]\n"
     ]
    }
   ],
   "source": [
    "Y_pred = mlp_m.predict(X_test,verbose=2)\n",
    "y_pred = np.argmax(Y_pred,axis=1)\n",
    "# print Y_pred.shape\n",
    "for ix in range(10):\n",
    "    print ix, confusion_matrix(np.argmax(y_test,axis=1), y_pred)[ix].sum()\n",
    "print confusion_matrix(np.argmax(y_test,axis=1), y_pred)"
   ]
  },
  {
   "cell_type": "markdown",
   "metadata": {},
   "source": [
    "<h1># Convolutional Neural Network </h1>"
   ]
  },
  {
   "cell_type": "code",
   "execution_count": 7,
   "metadata": {
    "collapsed": false
   },
   "outputs": [],
   "source": [
    "from keras.layers import Flatten\n",
    "from keras.layers.convolutional import Convolution2D, MaxPooling2D\n",
    "from keras import backend as K\n",
    "K.set_image_dim_ordering('th')"
   ]
  },
  {
   "cell_type": "code",
   "execution_count": 8,
   "metadata": {
    "collapsed": false
   },
   "outputs": [],
   "source": [
    "# fix random seed for reproducibility\n",
    "seed = 3\n",
    "np.random.seed(seed)"
   ]
  },
  {
   "cell_type": "code",
   "execution_count": 9,
   "metadata": {
    "collapsed": false
   },
   "outputs": [
    {
     "name": "stdout",
     "output_type": "stream",
     "text": [
      "(60000, 1, 28, 28) (60000,)\n",
      "(10000, 1, 28, 28) (10000,)\n"
     ]
    }
   ],
   "source": [
    "# load data\n",
    "(X_train, y_train), (X_test, y_test) = mnist.load_data()\n",
    "X_train = X_train.reshape(X_train.shape[0], 1, 28, 28).astype('float32')\n",
    "X_test = X_test.reshape(X_test.shape[0], 1, 28, 28).astype('float32')\n",
    "\n",
    "print X_train.shape, y_train.shape\n",
    "print X_test.shape, y_test.shape"
   ]
  },
  {
   "cell_type": "code",
   "execution_count": 10,
   "metadata": {
    "collapsed": false
   },
   "outputs": [
    {
     "name": "stdout",
     "output_type": "stream",
     "text": [
      "10\n"
     ]
    }
   ],
   "source": [
    "# normalize inputs\n",
    "X_train = X_train / 255\n",
    "X_test = X_test / 255\n",
    "\n",
    "# one hot encoding\n",
    "y_train = np_utils.to_categorical(y_train)\n",
    "y_test = np_utils.to_categorical(y_test)\n",
    "num_op = y_test.shape[1]\n",
    "\n",
    "print num_op"
   ]
  },
  {
   "cell_type": "code",
   "execution_count": 11,
   "metadata": {
    "collapsed": true
   },
   "outputs": [],
   "source": [
    "def cnn_model():\n",
    "    # create model\n",
    "    model = Sequential()\n",
    "    model.add(Convolution2D(32, 3, 3, border_mode='valid', input_shape=(1, 28, 28), activation='relu'))\n",
    "    model.add(Convolution2D(32, 3, 3, border_mode='valid', activation='relu'))\n",
    "    model.add(MaxPooling2D(pool_size=(2, 2)))\n",
    "    model.add(Dropout(0.2))\n",
    "    model.add(Flatten())\n",
    "    model.add(Dense(128, activation='relu'))\n",
    "    model.add(Dense(num_op, activation='softmax'))\n",
    "    # Compile Model\n",
    "    model.compile(loss='categorical_crossentropy', optimizer='sgd', metrics=['accuracy'])\n",
    "    return model"
   ]
  },
  {
   "cell_type": "code",
   "execution_count": 12,
   "metadata": {
    "collapsed": false
   },
   "outputs": [],
   "source": [
    "# cnn_m.summary()"
   ]
  },
  {
   "cell_type": "code",
   "execution_count": 13,
   "metadata": {
    "collapsed": false,
    "scrolled": true
   },
   "outputs": [
    {
     "name": "stdout",
     "output_type": "stream",
     "text": [
      "Train on 60000 samples, validate on 10000 samples\n",
      "Epoch 1/30\n",
      "21s - loss: 1.3027 - acc: 0.6380 - val_loss: 0.3843 - val_acc: 0.8911\n",
      "Epoch 2/30\n",
      "20s - loss: 0.4111 - acc: 0.8754 - val_loss: 0.3107 - val_acc: 0.9104\n",
      "Epoch 3/30\n",
      "22s - loss: 0.3459 - acc: 0.8964 - val_loss: 0.2634 - val_acc: 0.9240\n",
      "Epoch 4/30\n",
      "23s - loss: 0.3035 - acc: 0.9099 - val_loss: 0.2461 - val_acc: 0.9294\n",
      "Epoch 5/30\n",
      "24s - loss: 0.2705 - acc: 0.9205 - val_loss: 0.2047 - val_acc: 0.9401\n",
      "Epoch 6/30\n",
      "23s - loss: 0.2418 - acc: 0.9279 - val_loss: 0.1889 - val_acc: 0.9440\n",
      "Epoch 7/30\n",
      "24s - loss: 0.2198 - acc: 0.9334 - val_loss: 0.1696 - val_acc: 0.9507\n",
      "Epoch 8/30\n",
      "24s - loss: 0.2020 - acc: 0.9395 - val_loss: 0.1592 - val_acc: 0.9551\n",
      "Epoch 9/30\n",
      "25s - loss: 0.1865 - acc: 0.9435 - val_loss: 0.1460 - val_acc: 0.9576\n",
      "Epoch 10/30\n",
      "25s - loss: 0.1762 - acc: 0.9474 - val_loss: 0.1362 - val_acc: 0.9614\n",
      "Epoch 11/30\n",
      "26s - loss: 0.1646 - acc: 0.9511 - val_loss: 0.1320 - val_acc: 0.9625\n",
      "Epoch 12/30\n",
      "27s - loss: 0.1542 - acc: 0.9536 - val_loss: 0.1221 - val_acc: 0.9653\n",
      "Epoch 13/30\n",
      "23s - loss: 0.1432 - acc: 0.9567 - val_loss: 0.1121 - val_acc: 0.9653\n",
      "Epoch 14/30\n",
      "23s - loss: 0.1389 - acc: 0.9581 - val_loss: 0.1055 - val_acc: 0.9687\n",
      "Epoch 15/30\n",
      "23s - loss: 0.1329 - acc: 0.9591 - val_loss: 0.1046 - val_acc: 0.9679\n",
      "Epoch 16/30\n",
      "23s - loss: 0.1267 - acc: 0.9614 - val_loss: 0.0985 - val_acc: 0.9696\n",
      "Epoch 17/30\n",
      "23s - loss: 0.1217 - acc: 0.9630 - val_loss: 0.1006 - val_acc: 0.9705\n",
      "Epoch 18/30\n",
      "23s - loss: 0.1166 - acc: 0.9647 - val_loss: 0.0921 - val_acc: 0.9719\n",
      "Epoch 19/30\n",
      "24s - loss: 0.1101 - acc: 0.9665 - val_loss: 0.1040 - val_acc: 0.9685\n",
      "Epoch 20/30\n",
      "24s - loss: 0.1063 - acc: 0.9676 - val_loss: 0.0893 - val_acc: 0.9721\n",
      "Epoch 21/30\n",
      "23s - loss: 0.1023 - acc: 0.9688 - val_loss: 0.0826 - val_acc: 0.9742\n",
      "Epoch 22/30\n",
      "22s - loss: 0.0990 - acc: 0.9690 - val_loss: 0.0820 - val_acc: 0.9753\n",
      "Epoch 23/30\n",
      "23s - loss: 0.0966 - acc: 0.9704 - val_loss: 0.0787 - val_acc: 0.9743\n",
      "Epoch 24/30\n",
      "24s - loss: 0.0920 - acc: 0.9721 - val_loss: 0.0807 - val_acc: 0.9752\n",
      "Epoch 25/30\n",
      "23s - loss: 0.0909 - acc: 0.9723 - val_loss: 0.0735 - val_acc: 0.9753\n",
      "Epoch 26/30\n",
      "23s - loss: 0.0872 - acc: 0.9737 - val_loss: 0.0761 - val_acc: 0.9758\n",
      "Epoch 27/30\n",
      "23s - loss: 0.0835 - acc: 0.9741 - val_loss: 0.0797 - val_acc: 0.9748\n",
      "Epoch 28/30\n",
      "23s - loss: 0.0824 - acc: 0.9748 - val_loss: 0.0689 - val_acc: 0.9776\n",
      "Epoch 29/30\n",
      "23s - loss: 0.0801 - acc: 0.9758 - val_loss: 0.0743 - val_acc: 0.9779\n",
      "Epoch 30/30\n",
      "23s - loss: 0.0779 - acc: 0.9765 - val_loss: 0.0659 - val_acc: 0.9805\n"
     ]
    }
   ],
   "source": [
    "cnn_m = cnn_model()\n",
    "cnn = cnn_m.fit(X_train, y_train, validation_data=(X_test, y_test), nb_epoch=30, batch_size=256, verbose=2)\n"
   ]
  },
  {
   "cell_type": "code",
   "execution_count": 14,
   "metadata": {
    "collapsed": false
   },
   "outputs": [
    {
     "data": {
      "image/png": "[encoded data removed]",
      "text/plain": [
       "<matplotlib.figure.Figure at 0x7f602f7cd310>"
      ]
     },
     "metadata": {},
     "output_type": "display_data"
    },
    {
     "data": {
      "image/png": "[encoded data removed]",
      "text/plain": [
       "<matplotlib.figure.Figure at 0x7f602f7fc490>"
      ]
     },
     "metadata": {},
     "output_type": "display_data"
    }
   ],
   "source": [
    "plt.figure(0)\n",
    "plt.plot(cnn.history['acc'], 'r')\n",
    "plt.plot(cnn.history['val_acc'], 'g')\n",
    "plt.xticks(np.arange(0, 11, 5.0))\n",
    "plt.rcParams['figure.figsize'] = (8,6)\n",
    "\n",
    "\n",
    "plt.figure(1)\n",
    "plt.plot(cnn.history['loss'], 'r')\n",
    "plt.plot(cnn.history['val_loss'], 'g')\n",
    "plt.xticks(np.arange(0, 11, 5.0))\n",
    "plt.rcParams['figure.figsize'] = (8,6)\n",
    "\n",
    "\n",
    "plt.show()"
   ]
  },
  {
   "cell_type": "code",
   "execution_count": 53,
   "metadata": {
    "collapsed": false
   },
   "outputs": [
    {
     "name": "stdout",
     "output_type": "stream",
     "text": [
      "0 980\n",
      "1 1135\n",
      "2 1032\n",
      "3 1010\n",
      "4 982\n",
      "5 892\n",
      "6 958\n",
      "7 1028\n",
      "8 974\n",
      "9 1009\n",
      "[[ 969    0    0    2    0    3    4    1    1    0]\n",
      " [   0 1125    2    1    0    1    2    1    3    0]\n",
      " [   7    1  993    5    3    1    6    7    9    0]\n",
      " [   0    1    7  969    0   17    0    7    4    5]\n",
      " [   1    0    3    0  948    0   10    2    2   16]\n",
      " [   4    2    0    8    0  868    7    1    0    2]\n",
      " [   7    4    4    1    3   13  925    0    1    0]\n",
      " [   1    8   18    3    3    1    0  983    1   10]\n",
      " [   5    4    6   15    5   28    9    8  888    6]\n",
      " [   6    6    3   13   17    8    1    7    2  946]]\n"
     ]
    }
   ],
   "source": [
    "Y_pred = cnn_m.predict(X_test,verbose=2)\n",
    "y_pred = np.argmax(Y_pred,axis=1)\n",
    "# print Y_pred.shape\n",
    "for ix in range(10):\n",
    "    print ix, confusion_matrix(np.argmax(y_test,axis=1), y_pred)[ix].sum()\n",
    "print confusion_matrix(np.argmax(y_test,axis=1), y_pred)"
   ]
  },
  {
   "cell_type": "code",
   "execution_count": null,
   "metadata": {
    "collapsed": true
   },
   "outputs": [],
   "source": []
  }
 ],
 "metadata": {
  "kernelspec": {
   "display_name": "Python 2",
   "language": "python",
   "name": "python2"
  },
  "language_info": {
   "codemirror_mode": {
    "name": "ipython",
    "version": 2
   },
   "file_extension": ".py",
   "mimetype": "text/x-python",
   "name": "python",
   "nbconvert_exporter": "python",
   "pygments_lexer": "ipython2",
   "version": "2.7.13"
  }
 },
 "nbformat": 4,
 "nbformat_minor": 2
}
